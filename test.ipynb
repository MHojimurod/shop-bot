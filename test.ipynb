{
 "cells": [
  {
   "cell_type": "code",
   "execution_count": 2,
   "metadata": {},
   "outputs": [],
   "source": [
    "import difflib"
   ]
  },
  {
   "cell_type": "code",
   "execution_count": 3,
   "metadata": {},
   "outputs": [
    {
     "name": "stdout",
     "output_type": "stream",
     "text": [
      "['Differ', 'GenericAlias', 'HtmlDiff', 'IS_CHARACTER_JUNK', 'IS_LINE_JUNK', 'Match', 'SequenceMatcher', '__all__', '__builtins__', '__cached__', '__doc__', '__file__', '__loader__', '__name__', '__package__', '__spec__', '_calculate_ratio', '_check_types', '_file_template', '_format_range_context', '_format_range_unified', '_keep_original_ws', '_legend', '_mdiff', '_namedtuple', '_nlargest', '_styles', '_table_template', '_test', 'context_diff', 'diff_bytes', 'get_close_matches', 'ndiff', 'restore', 'unified_diff']\n"
     ]
    }
   ],
   "source": [
    "print(dir(difflib))"
   ]
  },
  {
   "cell_type": "code",
   "execution_count": null,
   "metadata": {},
   "outputs": [],
   "source": [
    "exit(1)"
   ]
  }
 ],
 "metadata": {
  "interpreter": {
   "hash": "78161254e1fdc329077f313bcd0b0d44732cc3566f2f413fa8e47c9ea1b46a22"
  },
  "kernelspec": {
   "display_name": "Python 3.9.8 ('.env': venv)",
   "language": "python",
   "name": "python3"
  },
  "language_info": {
   "codemirror_mode": {
    "name": "ipython",
    "version": 3
   },
   "file_extension": ".py",
   "mimetype": "text/x-python",
   "name": "python",
   "nbconvert_exporter": "python",
   "pygments_lexer": "ipython3",
   "version": "3.9.8"
  },
  "orig_nbformat": 4
 },
 "nbformat": 4,
 "nbformat_minor": 2
}
